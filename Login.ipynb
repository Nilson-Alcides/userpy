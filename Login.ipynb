{
  "nbformat": 4,
  "nbformat_minor": 0,
  "metadata": {
    "colab": {
      "provenance": [],
      "mount_file_id": "1JPgX-o-pSrEFHNyAVUWSW4LGFDjsGOvu",
      "authorship_tag": "ABX9TyMV9YvRAj6W1r+x4iGpR303",
      "include_colab_link": true
    },
    "kernelspec": {
      "name": "python3",
      "display_name": "Python 3"
    },
    "language_info": {
      "name": "python"
    }
  },
  "cells": [
    {
      "cell_type": "markdown",
      "metadata": {
        "id": "view-in-github",
        "colab_type": "text"
      },
      "source": [
        "<a href=\"https://colab.research.google.com/github/Nilson-Alcides/userpy/blob/main/Login.ipynb\" target=\"_parent\"><img src=\"https://colab.research.google.com/assets/colab-badge.svg\" alt=\"Open In Colab\"/></a>"
      ]
    },
    {
      "cell_type": "code",
      "execution_count": null,
      "metadata": {
        "id": "0GeEEmktjYY2"
      },
      "outputs": [],
      "source": [
        "Usuarios = {\n",
        "    \"admin\": {\"senha\": \"12345a\", \"tipoUsuario\": 1},\n",
        "    \"Gabriel\": {\"senha\": \"12345c\", \"tipoUsuario\": 2},\n",
        "    \"Sarah\": {\"senha\": \"12345c\", \"tipoUsuario\": 2},\n",
        "    \"João\": {\"senha\": \"abc123\", \"tipoUsuario\": 3}\n",
        "}\n",
        "\n",
        "tentativa = 3\n",
        "acesso_liberado = False\n",
        "usuario_logado = \"\"\n",
        "tipo_usuario = 0\n",
        "\n",
        "while tentativa > 0:\n",
        "    usuario = input(\"Digite o usuário: \").lower()\n",
        "    senha = input(\"Digite sua senha: \").lower()\n",
        "\n",
        "    if usuario in Usuarios and Usuarios[usuario][\"senha\"] == senha:\n",
        "        print(\"Login efetuado com sucesso!\")\n",
        "        acesso_liberado = True\n",
        "        usuario_logado = usuario\n",
        "        tipo_usuario = Usuarios[usuario][\"tipoUsuario\"]\n",
        "        break\n",
        "    else:\n",
        "        print(\"Login inválido!\")\n",
        "        tentativa -= 1\n",
        "        print(f\"Tentativas restantes: {tentativa}\")\n",
        "\n",
        "if acesso_liberado:\n",
        "    # Agora usamos o tipo de usuário para decidir o acesso\n",
        "    match tipo_usuario:\n",
        "        case 1:\n",
        "            print(\"Você é ADMIN e tem acesso total ao sistema.\")\n",
        "        case 2:\n",
        "            print(\"Você é um CLIENTE. Acesso limitado ao sistema.\")\n",
        "        case 3:\n",
        "            print(\"você é um USUÁRIO COMUM. Algumas funcionalidades estão restritas.\")\n",
        "        case _:\n",
        "            print(\"Tipo de usuário desconhecido. Acesso negado.\")\n",
        "else:\n",
        "    print(\"\\n🚫 Acesso bloqueado por muitas tentativas inválidas.\")\n"
      ]
    }
  ]
}